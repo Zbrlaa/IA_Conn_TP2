{
 "cells": [
  {
   "cell_type": "code",
   "execution_count": 13,
   "id": "54c70555",
   "metadata": {},
   "outputs": [],
   "source": [
    "import torch\n",
    "import matplotlib.pyplot as plt"
   ]
  },
  {
   "cell_type": "markdown",
   "id": "363f532e",
   "metadata": {},
   "source": [
    "# Exo 1"
   ]
  },
  {
   "cell_type": "code",
   "execution_count": 26,
   "id": "79d90b93",
   "metadata": {},
   "outputs": [
    {
     "name": "stdout",
     "output_type": "stream",
     "text": [
      "0 3975.0068359375\n",
      "500 0.7472437620162964\n",
      "1000 0.274189293384552\n",
      "1500 0.20752796530723572\n",
      "2000 0.17695754766464233\n",
      "2500 0.15560978651046753\n",
      "3000 0.13823115825653076\n",
      "3500 0.12079612910747528\n",
      "4000 0.1049441397190094\n",
      "4500 0.08883682638406754\n",
      "5000 0.07380762696266174\n",
      "5500 0.06143219769001007\n",
      "6000 0.05122602730989456\n",
      "6500 0.0432414673268795\n",
      "7000 0.036988645792007446\n",
      "7500 0.0320805162191391\n",
      "8000 0.02812265232205391\n",
      "8500 0.024929936975240707\n",
      "9000 0.022230233997106552\n",
      "9500 0.019787952303886414\n",
      "10000 0.017656007781624794\n"
     ]
    }
   ],
   "source": [
    "\n",
    "dtype = torch.float\n",
    "device = torch.device(\"cpu\")\n",
    "\n",
    "# N is batch size; D_in is input dimension;\n",
    "# H is hidden dimension; D_out is output dimension.\n",
    "N, D_in, H, D_out = 1000, 1, 10, 1\n",
    "\n",
    "# Create random input and output data\n",
    "x = torch.randn(N, D_in, device=device, dtype=dtype)\n",
    "y = 3*x+2\n",
    "\n",
    "# 0) Randomly initialize weights\n",
    "w1 = torch.randn(D_in, H, device=device, dtype=dtype)\n",
    "b = torch.randn(1, H, device=device, dtype=dtype)\n",
    "w2 = torch.randn(H, D_out, device=device, dtype=dtype)\n",
    "\n",
    "learning_rate = 1e-5\n",
    "for t in range(10001):\n",
    "    # 1) Forward pass: compute predicted y\n",
    "    z = x.mm(w1)+b.repeat(N,1)\n",
    "    z_relu = z.clamp(min=0)\n",
    "    y_pred = z_relu.mm(w2)\n",
    "\n",
    "    # 2) Compute and print loss\n",
    "    loss = (y_pred - y).pow(2).sum().item()\n",
    "    if t % 500 == 0:\n",
    "         print(t, loss)\n",
    "\n",
    "    # 3) Backpropagate to compute gradients of w1, w2 and b with respect to loss\n",
    "    grad_y_pred = 2.0 * (y_pred - y)\n",
    "    grad_w2 = z_relu.t().mm(grad_y_pred)\n",
    "\n",
    "\n",
    "    grad_z_relu = grad_y_pred.mm(w2.t())\n",
    "    grad_z = grad_z_relu.clone()\n",
    "    grad_z[z < 0] = 0\n",
    "    grad_w1 = x.t().mm(grad_z)\n",
    "\n",
    "    grad_b = grad_z.sum(0)\n",
    "\n",
    "    # 4) Update weights using gradient descent\n",
    "    w1 -= learning_rate * grad_w1\n",
    "    w2 -= learning_rate * grad_w2\n",
    "    b -= learning_rate * grad_b"
   ]
  },
  {
   "cell_type": "markdown",
   "id": "8f532c86",
   "metadata": {},
   "source": [
    "On remarque que malgré une initialisation aléatoire des poids, le reseau de neuronne apprend bien la fonction tel que la valeur moyenne de la fonction de coût descend toujours progressivement sous les 0.5"
   ]
  },
  {
   "cell_type": "code",
   "execution_count": 28,
   "id": "42fd368b",
   "metadata": {},
   "outputs": [
    {
     "data": {
      "image/png": "[encoded data removed]",
      "text/plain": [
       "<Figure size 640x480 with 1 Axes>"
      ]
     },
     "metadata": {},
     "output_type": "display_data"
    },
    {
     "name": "stdout",
     "output_type": "stream",
     "text": [
      "tensor([[0.0000, 2.0000, 2.0001],\n",
      "        [0.0526, 2.1579, 2.1580],\n",
      "        [0.1053, 2.3158, 2.3162],\n",
      "        [0.1579, 2.4737, 2.4741],\n",
      "        [0.2105, 2.6316, 2.6321],\n",
      "        [0.2632, 2.7895, 2.7900],\n",
      "        [0.3158, 2.9474, 2.9480],\n",
      "        [0.3684, 3.1053, 3.1059],\n",
      "        [0.4211, 3.2632, 3.2639],\n",
      "        [0.4737, 3.4211, 3.4218],\n",
      "        [0.5263, 3.5789, 3.5798],\n",
      "        [0.5789, 3.7368, 3.7377],\n",
      "        [0.6316, 3.8947, 3.8955],\n",
      "        [0.6842, 4.0526, 4.0532],\n",
      "        [0.7368, 4.2105, 4.2110],\n",
      "        [0.7895, 4.3684, 4.3687],\n",
      "        [0.8421, 4.5263, 4.5265],\n",
      "        [0.8947, 4.6842, 4.6842],\n",
      "        [0.9474, 4.8421, 4.8420],\n",
      "        [1.0000, 5.0000, 4.9997]])\n"
     ]
    }
   ],
   "source": [
    "# 5) Examining the learnt function\n",
    "M = 20\n",
    "x_test = torch.linspace(0,1,M).unsqueeze(1)\n",
    "x_test = x_test.repeat(1,D_in)\n",
    "\n",
    "z_test = x_test.mm(w1)+b.repeat(M,1)\n",
    "z_relu_test = z_test.clamp(min=0)\n",
    "y_pred_test = z_relu_test.mm(w2)\n",
    "\n",
    "plt.grid()\n",
    "plt.plot(list(x[:,0]), list(y_pred[:,0]))\n",
    "plt.show()\n",
    "\n",
    "y_test = 3*x_test + 2\n",
    "\n",
    "print(torch.cat((x_test,y_test,y_pred_test), 1))"
   ]
  },
  {
   "cell_type": "markdown",
   "id": "df78a3c7",
   "metadata": {},
   "source": [
    "On remarque que les prédictions sont vraiment fidèle aux vraies valeur de la fonction (au centième près)"
   ]
  },
  {
   "cell_type": "markdown",
   "id": "87437c2e",
   "metadata": {},
   "source": [
    "# Exo 2\n",
    "\n",
    "La fonction de cout utilisée est la somme des erreurs quadratiques (carré de l'équart entre valeur prédite et valeur réelle)"
   ]
  },
  {
   "cell_type": "markdown",
   "id": "2f8ea253",
   "metadata": {},
   "source": [
    "# Exo 3\n",
    "<img src=\"ResNeuronne.jpg\" width=\"500\">"
   ]
  },
  {
   "cell_type": "markdown",
   "id": "93071969",
   "metadata": {},
   "source": [
    "# Exo 4\n",
    "\n",
    "Chacune des N entrées dans X(x1, .., xn) passe dans tout les neuronnes N(n1, .., n10) et chacun est multiplié à son propre poids w1.i tq W1(w1.1, .., w1.10) , ils sont ensuite respectivement additionnés avec le même biais b. Apres application de la fonction d'activations, chaque sortie est multipliée à son propre poids w2.i tq W2(w2.1, .., w2.10), toutes ces sorties sont ensuite additionnées entre elles pour obtenir une sortie yi de Y(y1, .., yn)\n",
    "\n",
    "X : (N, Din)\\\n",
    "W1 : (Din, H)\\\n",
    "XW1 : (N, Din)@(Din, H) = (N, H)\\\n",
    "B : (1, H)\\\n",
    "Transformation en Brepeat : (N, H)\\\n",
    "Z = XW1 + Brepeat : (N, H)\\\n",
    "ZReLU garde la même shape : (N, H)\\\n",
    "W2 : (H, Dout)\\\n",
    "Y= ZReLU * W2 : (N, H)@(H, Dout) = (N, Dout)"
   ]
  },
  {
   "cell_type": "markdown",
   "id": "41f3398f",
   "metadata": {},
   "source": [
    "# Exo 5"
   ]
  }
 ],
 "metadata": {
  "kernelspec": {
   "display_name": "torch-env",
   "language": "python",
   "name": "python3"
  },
  "language_info": {
   "codemirror_mode": {
    "name": "ipython",
    "version": 3
   },
   "file_extension": ".py",
   "mimetype": "text/x-python",
   "name": "python",
   "nbconvert_exporter": "python",
   "pygments_lexer": "ipython3",
   "version": "3.11.2"
  }
 },
 "nbformat": 4,
 "nbformat_minor": 5
}
